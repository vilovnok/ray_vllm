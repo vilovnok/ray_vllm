{
 "cells": [
  {
   "cell_type": "code",
   "execution_count": 75,
   "id": "6b5230c5-717f-45ee-8c3e-626ca48c905e",
   "metadata": {},
   "outputs": [
    {
     "name": "stdout",
     "output_type": "stream",
     "text": [
      "{\"status\":\"healthy\"}"
     ]
    }
   ],
   "source": [
    "!curl http://127.0.0.1:8000/health"
   ]
  },
  {
   "cell_type": "code",
   "execution_count": 76,
   "id": "e4dca818-e76c-4f4f-ad90-d7c97583705f",
   "metadata": {},
   "outputs": [
    {
     "data": {
      "text/plain": [
       "'Как искусственный интеллект, я не способен принимать решения или производить действия. Я могу только обрабатывать и анализировать информацию в соответствии с предоставленными мне запросами. Если у вас есть вопросы или задачи, я буду рад помочь вам!'"
      ]
     },
     "execution_count": 76,
     "metadata": {},
     "output_type": "execute_result"
    }
   ],
   "source": [
    "import requests\n",
    "\n",
    "url = \"http://127.0.0.1:8000/v1/chat/completions\"\n",
    "headers = {\n",
    "    \"Content-Type\": \"application/json\"\n",
    "}\n",
    "data = {\n",
    "    \"model\": \"Qwen/Qwen2.5-1.5B-Instruct\",\n",
    "    \"messages\": [\n",
    "        {\"role\": \"user\", \"content\": \"Что будешь делать ?\"}\n",
    "    ]\n",
    "}\n",
    "\n",
    "response = requests.post(url, headers=headers, json=data)\n",
    "response.json()['choices'][0]['message']['content']"
   ]
  },
  {
   "cell_type": "code",
   "execution_count": null,
   "id": "3a7c5be9-2335-4cdf-9f93-cb20798caa46",
   "metadata": {},
   "outputs": [],
   "source": []
  },
  {
   "cell_type": "code",
   "execution_count": null,
   "id": "0d408414-852a-41a3-8efb-55e538d21191",
   "metadata": {},
   "outputs": [],
   "source": []
  },
  {
   "cell_type": "code",
   "execution_count": null,
   "id": "29a05446-cc79-4dff-8e68-2be789340d2a",
   "metadata": {},
   "outputs": [],
   "source": []
  },
  {
   "cell_type": "code",
   "execution_count": null,
   "id": "3d0cdd06-a17c-4b04-a185-eab314a6198b",
   "metadata": {},
   "outputs": [],
   "source": []
  },
  {
   "cell_type": "code",
   "execution_count": null,
   "id": "6e5fd4cc-1ae0-47d0-abc9-4740d0446797",
   "metadata": {},
   "outputs": [],
   "source": []
  }
 ],
 "metadata": {
  "kernelspec": {
   "display_name": "Python 3 (ipykernel)",
   "language": "python",
   "name": "python3"
  },
  "language_info": {
   "codemirror_mode": {
    "name": "ipython",
    "version": 3
   },
   "file_extension": ".py",
   "mimetype": "text/x-python",
   "name": "python",
   "nbconvert_exporter": "python",
   "pygments_lexer": "ipython3",
   "version": "3.10.15"
  }
 },
 "nbformat": 4,
 "nbformat_minor": 5
}
